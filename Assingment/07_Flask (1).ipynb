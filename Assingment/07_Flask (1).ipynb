{
  "nbformat": 4,
  "nbformat_minor": 0,
  "metadata": {
    "colab": {
      "provenance": []
    },
    "kernelspec": {
      "name": "python3",
      "display_name": "Python 3"
    },
    "language_info": {
      "name": "python"
    }
  },
  "cells": [
    {
      "cell_type": "markdown",
      "source": [
        "01. How do you create a basic Flask application"
      ],
      "metadata": {
        "id": "AVt4MUBUv7RZ"
      }
    },
    {
      "cell_type": "code",
      "source": [
        "from flask import Flask\n",
        "\n",
        "app = Flask(__name__)\n",
        "\n",
        "@app.route(\"/\")\n",
        "def Home():\n",
        "  return \"Welcome to my flask app\"\n",
        "\n",
        "if __name__ == \"__main__\":\n",
        "  app.run()"
      ],
      "metadata": {
        "id": "BgcolIu3wRU6"
      },
      "execution_count": null,
      "outputs": []
    },
    {
      "cell_type": "markdown",
      "source": [],
      "metadata": {
        "id": "PyQtsUL8xV_y"
      }
    },
    {
      "cell_type": "markdown",
      "source": [
        "2. How do you serve static files like images or CSS in Flask"
      ],
      "metadata": {
        "id": "SwzgQg9kxe7V"
      }
    },
    {
      "cell_type": "code",
      "source": [
        "from flask import Flask, render_template\n",
        "\n",
        "app = Flask(__name__)\n",
        "\n",
        "@app.route(\"/\")\n",
        "def index():\n",
        "    return render_template('index.html')\n",
        "\n",
        "if __name__ == \"__main__\":\n",
        "\n",
        "    app.run(debug=True)"
      ],
      "metadata": {
        "id": "Ydcqa87txeqW"
      },
      "execution_count": null,
      "outputs": []
    },
    {
      "cell_type": "markdown",
      "source": [],
      "metadata": {
        "id": "afbF3Y9xyHyN"
      }
    },
    {
      "cell_type": "markdown",
      "source": [
        "03. How do you define different routes with different HTTP methods in Flask"
      ],
      "metadata": {
        "id": "2NpL0p7vyH19"
      }
    },
    {
      "cell_type": "code",
      "source": [
        "from flask import Flask, request\n",
        "\n",
        "app = Flask(__name__)\n",
        "\n",
        "@app.route('/submit', methods=['GET', 'POST'])\n",
        "def submit():\n",
        "    if request.method == 'POST':\n",
        "        return 'This was a POST request'\n",
        "    else:\n",
        "        return 'This was a GET request'\n",
        "\n",
        "if __name__ == '__main__':\n",
        "\n",
        "    app.run(debug=True)"
      ],
      "metadata": {
        "id": "r1lvkvxDyRrb"
      },
      "execution_count": null,
      "outputs": []
    },
    {
      "cell_type": "markdown",
      "source": [
        "04.  How do you render HTML templates in Flask"
      ],
      "metadata": {
        "id": "Zmgme-n8ydm9"
      }
    },
    {
      "cell_type": "code",
      "source": [
        "from flask import Flask, render_template\n",
        "\n",
        "app = Flask(__name__)\n",
        "\n",
        "@app.route('/')\n",
        "def index():\n",
        "    ## Assuming you have a file named 'index.html' in a 'templates' folder\n",
        "    return render_template('index.html')\n",
        "\n",
        "if __name__ == '__main__':\n",
        "\n",
        "    app.run(debug=True)"
      ],
      "metadata": {
        "id": "ID5hhANxyiO5"
      },
      "execution_count": null,
      "outputs": []
    },
    {
      "cell_type": "markdown",
      "source": [
        "05 How can you generate URLs for routes in Flask using url_for ?"
      ],
      "metadata": {
        "id": "Q4a9N9nTyu9s"
      }
    },
    {
      "cell_type": "code",
      "source": [
        "from flask import Flask, url_for\n",
        "\n",
        "app = Flask(__name__)\n",
        "\n",
        "@app.route('/')\n",
        "def index():\n",
        "    pass\n",
        "\n",
        "@app.route('/user/<username>')\n",
        "def profile(username):\n",
        "    pass\n",
        "\n",
        "with app.test_request_context():\n",
        "    print(url_for('index'))\n",
        "    print(url_for('profile', username='JohnDoe'))\n",
        "\n",
        "if __name__ == '__main__':\n",
        "\n",
        "\n",
        "    app.run(debug=True)"
      ],
      "metadata": {
        "id": "AEgPX_UJzDPe"
      },
      "execution_count": null,
      "outputs": []
    },
    {
      "cell_type": "markdown",
      "source": [
        "06.  How do you handle forms in Flask"
      ],
      "metadata": {
        "id": "HuZNxfLDzUol"
      }
    },
    {
      "cell_type": "code",
      "source": [
        "from flask import Flask, request, render_template_string\n",
        "\n",
        "app = Flask(__name__)\n",
        "\n",
        "## Simple HTML template for a form\n",
        "FORM_TEMPLATE = \"\"\"\n",
        "<form method=\"POST\">\n",
        "    Name: <input type=\"text\" name=\"name\"><br>\n",
        "    Email: <input type=\"email\" name=\"email\"><br>\n",
        "    <input type=\"submit\" value=\"Submit\">\n",
        "</form>\n",
        "\"\"\"\n",
        "\n",
        "@app.route('/form', methods=['GET', 'POST'])\n",
        "def handle_form():\n",
        "    if request.method == 'POST':\n",
        "        name = request.form.get('name')\n",
        "        email = request.form.get('email')\n",
        "        return f'Thank you, {name}! Your email is {email}.'\n",
        "    return render_template_string(FORM_TEMPLATE)\n",
        "\n",
        "if __name__ == '__main__':\n",
        "\n",
        "    app.run(debug=True)"
      ],
      "metadata": {
        "id": "1ZDaOTrOzbW4"
      },
      "execution_count": null,
      "outputs": []
    },
    {
      "cell_type": "markdown",
      "source": [
        " 07. How can you validate form data in Flask"
      ],
      "metadata": {
        "id": "pfbvgRqBzd4M"
      }
    },
    {
      "cell_type": "markdown",
      "source": [],
      "metadata": {
        "id": "kEWDFdlZz64y"
      }
    },
    {
      "cell_type": "code",
      "source": [
        "from flask import Flask, render_template_string, request, redirect, url_for\n",
        "from flask_wtf import FlaskForm\n",
        "from wtforms import StringField, SubmitField\n",
        "from wtforms.validators import DataRequired, Email\n",
        "\n",
        "## Install Flask-WTF: pip install Flask-WTF\n",
        "\n",
        "app = Flask(__name__)\n",
        "app.config['SECRET_KEY'] = 'a_very_secret_key' # Replace with a real secret key\n",
        "\n",
        "# Define a simple form\n",
        "class MyForm(FlaskForm):\n",
        "    name = StringField('Name', validators=[DataRequired()])\n",
        "    email = StringField('Email', validators=[DataRequired(), Email()])\n",
        "    submit = SubmitField('Submit')\n",
        "\n",
        "# Simple HTML template for rendering the form and displaying results\n",
        "FORM_AND_RESULT_TEMPLATE = \"\"\"\n",
        "<form method=\"POST\">\n",
        "    {{ form.csrf_token }}\n",
        "    <div>\n",
        "        {{ form.name.label }} {{ form.name() }}\n",
        "        {% if form.name.errors %}\n",
        "            <ul class=\"errors\">\n",
        "                {% for error in form.name.errors %}\n",
        "                    <li>{{ error }}</li>\n",
        "                {% endfor %}\n",
        "            </ul>\n",
        "        {% endif %}\n",
        "    </div>\n",
        "    <div>\n",
        "        {{ form.email.label }} {{ form.email() }}\n",
        "        {% if form.email.errors %}\n",
        "            <ul class=\"errors\">\n",
        "                {% for error in form.email.errors %}\n",
        "                    <li>{{ error }}</li>\n",
        "                {% endfor %}\n",
        "            </ul>\n",
        "        {% endif %}\n",
        "    </div>\n",
        "    <div>\n",
        "        {{ form.submit() }}\n",
        "    </div>\n",
        "</form>\n",
        "\n",
        "{% if name and email %}\n",
        "    <h2>Submitted Data:</h2>\n",
        "    <p>Name: {{ name }}</p>\n",
        "    <p>Email: {{ email }}</p>\n",
        "{% endif %}\n",
        "\"\"\"\n",
        "\n",
        "@app.route('/validate_form', methods=['GET', 'POST'])\n",
        "def validate_form():\n",
        "    form = MyForm()\n",
        "    name = None\n",
        "    email = None\n",
        "    if form.validate_on_submit():\n",
        "        name = form.name.data\n",
        "        email = form.email.data\n",
        "        # Process the valid data here\n",
        "        # For this example, we'll just display it\n",
        "        form.name.data = '' # Clear the form fields after submission\n",
        "        form.email.data = ''\n",
        "    return render_template_string(FORM_AND_RESULT_TEMPLATE, form=form, name=name, email=email)\n",
        "\n",
        "if __name__ == '__main__':\n",
        "\n",
        "    app.run(debug=True)"
      ],
      "metadata": {
        "id": "sXYyK0gOziNE"
      },
      "execution_count": null,
      "outputs": []
    },
    {
      "cell_type": "markdown",
      "source": [
        "08.  How do you manage sessions in Flask"
      ],
      "metadata": {
        "id": "T0e7rrml0FEB"
      }
    },
    {
      "cell_type": "code",
      "source": [
        "from flask import Flask, session, redirect, url_for, request, render_template_string\n",
        "\n",
        "app = Flask(__name__)\n",
        "# Set a secret key for signing the session cookie\n",
        "app.config['SECRET_KEY'] = 'super_secret_key' # Replace with a real secret key\n",
        "\n",
        "# Simple HTML templates\n",
        "SESSION_FORM_TEMPLATE = \"\"\"\n",
        "<form method=\"POST\">\n",
        "    Name: <input type=\"text\" name=\"name\"><br>\n",
        "    <input type=\"submit\" value=\"Set Name in Session\">\n",
        "</form>\n",
        "<p><a href=\"{{ url_for('get_name') }}\">Get Name from Session</a></p>\n",
        "<p><a href=\"{{ url_for('clear_session') }}\">Clear Session</a></p>\n",
        "\"\"\"\n",
        "\n",
        "SESSION_DISPLAY_TEMPLATE = \"\"\"\n",
        "<h2>Hello, {{ name }}!</h2>\n",
        "<p><a href=\"{{ url_for('set_name') }}\">Set Name in Session</a></p>\n",
        "<p><a href=\"{{ url_for('clear_session') }}\">Clear Session</a></p>\n",
        "\"\"\"\n",
        "\n",
        "@app.route('/set_name', methods=['GET', 'POST'])\n",
        "def set_name():\n",
        "    if request.method == 'POST':\n",
        "        session['name'] = request.form.get('name')\n",
        "        return redirect(url_for('get_name'))\n",
        "    return render_template_string(SESSION_FORM_TEMPLATE)\n",
        "\n",
        "@app.route('/get_name')\n",
        "def get_name():\n",
        "    name = session.get('name', 'Guest')\n",
        "    return render_template_string(SESSION_DISPLAY_TEMPLATE, name=name)\n",
        "\n",
        "@app.route('/clear_session')\n",
        "def clear_session():\n",
        "    session.pop('name', None) # Remove 'name' from session if it exists\n",
        "    return redirect(url_for('get_name'))\n",
        "\n",
        "if __name__ == '__main__':\n",
        "\n",
        "    app.run(debug=True)"
      ],
      "metadata": {
        "id": "gzTlRnq50ET-"
      },
      "execution_count": null,
      "outputs": []
    },
    {
      "cell_type": "markdown",
      "source": [
        "9. How do you redirect to a different route in Flask"
      ],
      "metadata": {
        "id": "UtubchCG0P0x"
      }
    },
    {
      "cell_type": "code",
      "source": [
        "from flask import Flask, redirect, url_for\n",
        "\n",
        "app = Flask(__name__)\n",
        "\n",
        "@app.route('/')\n",
        "def index():\n",
        "    return 'This is the index page. You will be redirected to the home page.'\n",
        "\n",
        "@app.route('/home')\n",
        "def home():\n",
        "    return 'Welcome to the home page!'\n",
        "\n",
        "@app.route('/redirect_to_home')\n",
        "def redirect_to_home():\n",
        "    return redirect(url_for('home'))\n",
        "\n",
        "if __name__ == '__main__':\n",
        "\n",
        "    app.run(debug=True)"
      ],
      "metadata": {
        "id": "5WRvsVmz0PNw"
      },
      "execution_count": null,
      "outputs": []
    },
    {
      "cell_type": "markdown",
      "source": [
        "10.  How do you handle errors in Flask (e.g., 404)"
      ],
      "metadata": {
        "id": "uzNGaVuh01wm"
      }
    },
    {
      "cell_type": "code",
      "metadata": {
        "id": "e62238c5"
      },
      "source": [
        "from flask import Flask, render_template\n",
        "\n",
        "app = Flask(__name__)\n",
        "\n",
        "@app.route('/')\n",
        "def index():\n",
        "    return 'This is the index page.'\n",
        "\n",
        "@app.errorhandler(404)\n",
        "def page_not_found(error):\n",
        "    # You can render a custom HTML template for the error page\n",
        "    return render_template('404.html'), 404\n",
        "    # Or simply return a string\n",
        "    # return \"<h1>404</h1><p>The page you requested could not be found.</p>\", 404\n",
        "\n",
        "if __name__ == '__main__':\n",
        "\n",
        "    app.run(debug=True)"
      ],
      "execution_count": null,
      "outputs": []
    },
    {
      "cell_type": "markdown",
      "source": [
        "11.  How do you structure a Flask app using Blueprints"
      ],
      "metadata": {
        "id": "WK-W6ZL11Kzv"
      }
    },
    {
      "cell_type": "code",
      "source": [
        "from flask import Flask, Blueprint\n",
        "\n",
        "## Create a Blueprint\n",
        "my_blueprint = Blueprint('my_blueprint', __name__)\n",
        "\n",
        "## Define a route within the Blueprint\n",
        "@my_blueprint.route('/blueprint_route')\n",
        "def blueprint_route():\n",
        "    return 'This is a route from the blueprint!'\n",
        "\n",
        "app = Flask(__name__)\n",
        "\n",
        "## Register the Blueprint with the Flask app\n",
        "app.register_blueprint(my_blueprint, url_prefix='/myprefix')\n",
        "\n",
        "@app.route('/')\n",
        "def index():\n",
        "    return 'This is the main app index.'\n",
        "\n",
        "if __name__ == '__main__':\n",
        "\n",
        "    app.run(debug=True)"
      ],
      "metadata": {
        "id": "_DZAee6C1NES"
      },
      "execution_count": null,
      "outputs": []
    },
    {
      "cell_type": "markdown",
      "source": [
        "12. How do you define a custom Jinja filter in Flask"
      ],
      "metadata": {
        "id": "7ibV-IKl1Zmc"
      }
    },
    {
      "cell_type": "code",
      "source": [
        "from flask import Flask, render_template_string\n",
        "\n",
        "app = Flask(__name__)\n",
        "\n",
        "# Define a custom Jinja filter\n",
        "@app.template_filter('capitalize_words')\n",
        "def capitalize_words_filter(s):\n",
        "    return s.title()\n",
        "\n",
        "# Simple HTML template using the custom filter\n",
        "TEMPLATE = \"\"\"\n",
        "<p>{{ my_string | capitalize_words }}</p>\n",
        "\"\"\"\n",
        "\n",
        "@app.route('/')\n",
        "def index():\n",
        "    my_string = \"hello world from flask\"\n",
        "    return render_template_string(TEMPLATE, my_string=my_string)\n",
        "\n",
        "if __name__ == '__main__':\n",
        "\n",
        "    app.run(debug=True)"
      ],
      "metadata": {
        "id": "L9cp9zVr1bnF"
      },
      "execution_count": null,
      "outputs": []
    },
    {
      "cell_type": "markdown",
      "source": [
        "13. How can you redirect with query parameters in Flask"
      ],
      "metadata": {
        "id": "tjBFkbgi1iMg"
      }
    },
    {
      "cell_type": "code",
      "source": [
        "from flask import Flask, redirect, url_for, request\n",
        "\n",
        "app = Flask(__name__)\n",
        "\n",
        "@app.route('/')\n",
        "def index():\n",
        "    return 'Go to /redirect_with_params to see the redirect.'\n",
        "\n",
        "@app.route('/target')\n",
        "def target_route():\n",
        "    name = request.args.get('name', 'Guest')\n",
        "    return f'Hello, {name}!'\n",
        "\n",
        "@app.route('/redirect_with_params')\n",
        "def redirect_with_params():\n",
        "    # Redirect to the 'target_route' and include query parameters\n",
        "    return redirect(url_for('target_route', name='Alice', greeting='Hi'))\n",
        "\n",
        "if __name__ == '__main__':\n",
        "\n",
        "    app.run(debug=True)"
      ],
      "metadata": {
        "id": "RqhS__pm1hfl"
      },
      "execution_count": null,
      "outputs": []
    },
    {
      "cell_type": "markdown",
      "source": [],
      "metadata": {
        "id": "GRj2ORPK1pL_"
      }
    },
    {
      "cell_type": "markdown",
      "source": [
        "14. How do you return JSON responses in Flask ?"
      ],
      "metadata": {
        "id": "MCBbdHkl1vuQ"
      }
    },
    {
      "cell_type": "code",
      "source": [
        "from flask import Flask, jsonify\n",
        "\n",
        "app = Flask(__name__)\n",
        "\n",
        "@app.route('/json_example')\n",
        "def json_example():\n",
        "    data = {\n",
        "        'name': 'Angaj Kumar',\n",
        "        'age': 30,\n",
        "        'city': 'Patna, Hajipur'\n",
        "    }\n",
        "    return jsonify(data)\n",
        "\n",
        "if __name__ == '__main__':\n",
        "\n",
        "    app.run(debug=True)"
      ],
      "metadata": {
        "id": "6z1JW1DU1yem"
      },
      "execution_count": null,
      "outputs": []
    },
    {
      "cell_type": "markdown",
      "source": [
        "15.  How do you capture URL parameters in Flask"
      ],
      "metadata": {
        "id": "iRXXrytP10FA"
      }
    },
    {
      "cell_type": "code",
      "source": [
        "from flask import Flask\n",
        "\n",
        "app = Flask(__name__)\n",
        "\n",
        "@app.route('/user/<username>')\n",
        "def show_user_profile(username):\n",
        "    # show the user profile for that user\n",
        "    return f'User: {username}'\n",
        "\n",
        "@app.route('/post/<int:post_id>')\n",
        "def show_post(post_id):\n",
        "    # show the post with the given id, the id is an integer\n",
        "    return f'Post ID: {post_id}'\n",
        "\n",
        "if __name__ == '__main__':\n",
        "\n",
        "    app.run(debug=True)"
      ],
      "metadata": {
        "id": "veqFS1og18N-"
      },
      "execution_count": null,
      "outputs": []
    }
  ]
}