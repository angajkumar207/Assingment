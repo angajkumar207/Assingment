{
  "cells": [
    {
      "cell_type": "markdown",
      "metadata": {
        "id": "wCjZmaHI-Z85"
      },
      "source": [
        "# Bsic Python\n"
      ]
    },
    {
      "cell_type": "code",
      "execution_count": 1,
      "metadata": {
        "colab": {
          "base_uri": "https://localhost:8080/"
        },
        "id": "hOCN_eeZ-f6K",
        "outputId": "0ec72672-26cb-48ec-a8a4-3f3bee35c1eb"
      },
      "outputs": [
        {
          "name": "stdout",
          "output_type": "stream",
          "text": [
            "Hello, World!\n"
          ]
        }
      ],
      "source": [
        "#1. Write a Python program to print \"Hello, World!y\n",
        "print(\"Hello, World!\")"
      ]
    },
    {
      "cell_type": "code",
      "execution_count": 13,
      "metadata": {
        "colab": {
          "base_uri": "https://localhost:8080/"
        },
        "id": "sOHKBEEG-84a",
        "outputId": "2fd93520-c8bd-49cc-dcb0-a04f8b8a5eee"
      },
      "outputs": [
        {
          "name": "stdout",
          "output_type": "stream",
          "text": [
            "name: Angaj kumar\n",
            "age: 25\n"
          ]
        }
      ],
      "source": [
        "#Q2.Write a Python program that displays your name and age.\n",
        "name = \"Angaj kumar\"\n",
        "age = 25\n",
        "print(\"name:\",name)\n",
        "print(\"age:\",age)"
      ]
    },
    {
      "cell_type": "code",
      "execution_count": 2,
      "metadata": {
        "colab": {
          "base_uri": "https://localhost:8080/"
        },
        "id": "xNVZO6Wi_uqq",
        "outputId": "efbcb657-dfb5-4746-9289-ced6f3c5545e"
      },
      "outputs": [
        {
          "name": "stdout",
          "output_type": "stream",
          "text": [
            "Python Pre-defined Keywords:\n",
            "False\n",
            "None\n",
            "True\n",
            "and\n",
            "as\n",
            "assert\n",
            "async\n",
            "await\n",
            "break\n",
            "class\n",
            "continue\n",
            "def\n",
            "del\n",
            "elif\n",
            "else\n",
            "except\n",
            "finally\n",
            "for\n",
            "from\n",
            "global\n",
            "if\n",
            "import\n",
            "in\n",
            "is\n",
            "lambda\n",
            "nonlocal\n",
            "not\n",
            "or\n",
            "pass\n",
            "raise\n",
            "return\n",
            "try\n",
            "while\n",
            "with\n",
            "yield\n"
          ]
        }
      ],
      "source": [
        "#Q3. Write code to print all the pre-defined keywords in Python using the keyword library.\n",
        "import keyword\n",
        "\n",
        "keywords_list = keyword.kwlist\n",
        "print(\"Python Pre-defined Keywords:\")\n",
        "for kw in keywords_list:\n",
        "    print(kw)\n",
        "\n"
      ]
    },
    {
      "cell_type": "code",
      "execution_count": 3,
      "metadata": {
        "colab": {
          "base_uri": "https://localhost:8080/"
        },
        "id": "WfMca-GFS_oo",
        "outputId": "0898c6b6-e6c5-43cd-a1d1-4da071d6e028"
      },
      "outputs": [
        {
          "name": "stdout",
          "output_type": "stream",
          "text": [
            "Enter a word: angaj\n",
            "'angaj' is not a python keyword\n"
          ]
        }
      ],
      "source": [
        "#Q4.Write a program that checks if a given word is a Python keyword.\n",
        "import keyword\n",
        "\n",
        "word = input(\"Enter a word: \")\n",
        "\n",
        "if keyword.iskeyword(word):\n",
        "  print(f\"'{word}' is python keyword\")\n",
        "else:\n",
        "  print(f\"'{word}' is not a python keyword\")"
      ]
    },
    {
      "cell_type": "code",
      "execution_count": 4,
      "metadata": {
        "colab": {
          "base_uri": "https://localhost:8080/"
        },
        "id": "-_vLttSTVYvT",
        "outputId": "03bdf29a-8227-401b-9a3d-2f0cbe6e251c"
      },
      "outputs": [
        {
          "name": "stdout",
          "output_type": "stream",
          "text": [
            "[10, 2, 3, 4, 5]\n"
          ]
        }
      ],
      "source": [
        "#Q5. . Create a list and tuple in Python, and demonstrate how attempting to change an element works differently\n",
        "#for each.\n",
        "my_list = [1, 2, 3, 4, 5]\n",
        "my_tuple = (1, 2, 3, 4, 5)\n",
        "\n",
        "my_list[0] = 10\n",
        "print(my_list)"
      ]
    },
    {
      "cell_type": "code",
      "execution_count": 5,
      "metadata": {
        "colab": {
          "base_uri": "https://localhost:8080/"
        },
        "id": "yvMUUXfbWZsQ",
        "outputId": "d2fb88cc-a967-4e0f-ac8f-b33ad58b293b"
      },
      "outputs": [
        {
          "name": "stdout",
          "output_type": "stream",
          "text": [
            "Before function call: [1, 2, 3]\n",
            "Inside function: [10, 2, 3, 4]\n"
          ]
        }
      ],
      "source": [
        "#Q6.Write a function to demonstrate the behavior of mutable and immutable arguments.\n",
        "def modify_list(lst):\n",
        "    lst.append(4)\n",
        "    lst[0] = 10\n",
        "    print(\"Inside function:\", lst)\n",
        "\n",
        "my_list = [1, 2, 3]\n",
        "print(\"Before function call:\", my_list)\n",
        "modify_list(my_list)"
      ]
    },
    {
      "cell_type": "code",
      "execution_count": 8,
      "metadata": {
        "colab": {
          "base_uri": "https://localhost:8080/"
        },
        "id": "uaIjxPR4XKqR",
        "outputId": "c4ca55b3-344b-4829-97e4-835002e6099a"
      },
      "outputs": [
        {
          "name": "stdout",
          "output_type": "stream",
          "text": [
            "Enter a number:2\n",
            "Enter second number: 2\n",
            "Addition: 4\n",
            "Subtraction: 0\n",
            "Multiplication: 4\n",
            "Division: 1.0\n"
          ]
        }
      ],
      "source": [
        "#Q7. Write a program that performs basic arithmetic operations on two user-input numbers.\n",
        "num = int(input(\"Enter a number:\"))\n",
        "num1 = int(input(\"Enter second number: \"))\n",
        "\n",
        "print(\"Addition:\", num + num1)\n",
        "print(\"Subtraction:\", num - num1)\n",
        "print(\"Multiplication:\", num * num1)\n",
        "print(\"Division:\", num / num1)"
      ]
    },
    {
      "cell_type": "code",
      "execution_count": 9,
      "metadata": {
        "colab": {
          "base_uri": "https://localhost:8080/"
        },
        "id": "8npbu2kXZBAf",
        "outputId": "a68e5bf7-2e10-4ca5-e55d-17f63ebea73f"
      },
      "outputs": [
        {
          "name": "stdout",
          "output_type": "stream",
          "text": [
            "Enter the first number: 4\n",
            "Enter the second number: 4\n",
            "Both numbers are positive.\n",
            "At least one number is even.\n",
            "The numbers are equal.\n"
          ]
        }
      ],
      "source": [
        "#Q8. Write a program to demonstrate the use of logical operators.\n",
        "\n",
        "# Get input from the user\n",
        "num1 = int(input(\"Enter the first number: \"))\n",
        "num2 = int(input(\"Enter the second number: \"))\n",
        "\n",
        "# 'and'\n",
        "if num1 > 0 and num2 > 0:\n",
        "    print(\"Both numbers are positive.\")\n",
        "else:\n",
        "    print(\"At least one number is not positive.\")\n",
        "\n",
        "# 'or' operator\n",
        "if num1 % 2 == 0 or num2 % 2 == 0:\n",
        "    print(\"At least one number is even.\")\n",
        "else:\n",
        "   print(\"Both numbers are odd.\")\n",
        "\n",
        "# 'not' operator\n",
        "if not (num1 == num2) :\n",
        "    print(\"The numbers are not equal.\")\n",
        "else:\n",
        "    print(\"The numbers are equal.\")"
      ]
    },
    {
      "cell_type": "code",
      "execution_count": 10,
      "metadata": {
        "colab": {
          "base_uri": "https://localhost:8080/"
        },
        "id": "qASfmh2CZgtj",
        "outputId": "2aafe686-78b7-4bfc-a705-d5ea4d1c4f42"
      },
      "outputs": [
        {
          "name": "stdout",
          "output_type": "stream",
          "text": [
            "Enter a value: 6\n",
            "Integer: 6\n",
            "Float: 6.0\n",
            "Boolean: True\n"
          ]
        }
      ],
      "source": [
        "#Q9.  Write a Python program to convert user input from string to integer, float, and boolean types.\n",
        "user_input = input(\"Enter a value: \")\n",
        "\n",
        "\n",
        "try:\n",
        "    int_value = int(user_input)\n",
        "    print(\"Integer:\", int_value)\n",
        "except ValueError:\n",
        "    print(\"Cannot convert to Integer\")\n",
        "\n",
        "# Convert to float\n",
        "try:\n",
        "    float_value = float(user_input)\n",
        "    print(\"Float:\", float_value)\n",
        "except ValueError:\n",
        "    print(\"Cannot convert to Float\")\n",
        "\n",
        "# Convert to boolean\n",
        "bool_value = bool(user_input)\n",
        "print(\"Boolean:\", bool_value)\n"
      ]
    },
    {
      "cell_type": "code",
      "execution_count": 13,
      "metadata": {
        "colab": {
          "base_uri": "https://localhost:8080/"
        },
        "id": "xP6OjsRZacoJ",
        "outputId": "7282856f-562e-470d-c8b1-8bd1bcce5edf"
      },
      "outputs": [
        {
          "name": "stdout",
          "output_type": "stream",
          "text": [
            "Enter a value: 5\n",
            "Integer: 5\n"
          ]
        }
      ],
      "source": [
        "#Q10. Write a Python program to convert user input from string to integer, float, and boolean types.\n",
        "user_input = input(\"Enter a value: \")\n",
        "\n",
        "\n",
        "try:\n",
        "    int_value = int(user_input)\n",
        "    print(\"Integer:\", int_value)\n",
        "except ValueError:\n",
        "    print(\"Cannot convert to Integer\")"
      ]
    },
    {
      "cell_type": "code",
      "execution_count": 14,
      "metadata": {
        "colab": {
          "base_uri": "https://localhost:8080/"
        },
        "id": "Onw_i63PatVs",
        "outputId": "9fbecfef-b58b-44cb-fea0-6964b795a144"
      },
      "outputs": [
        {
          "name": "stdout",
          "output_type": "stream",
          "text": [
            "Enter a number4\n",
            "Number is positive\n",
            "This number is zero\n"
          ]
        }
      ],
      "source": [
        "#Q11.  Write a program that checks if a number is positive, negative, or zero.\n",
        "num = int(input(\"Enter a number\"))\n",
        "\n",
        "if num > 0:\n",
        "  print(\"Number is positive\")\n",
        "if num < 0:\n",
        "  print(\"this number is nagative\")\n",
        "else:\n",
        "  print(\"This number is zero\")\n",
        "\n"
      ]
    },
    {
      "cell_type": "code",
      "execution_count": 15,
      "metadata": {
        "colab": {
          "base_uri": "https://localhost:8080/"
        },
        "id": "6eQ8U5b5burC",
        "outputId": "e0369949-d648-447a-ca24-d9f86f3489cb"
      },
      "outputs": [
        {
          "name": "stdout",
          "output_type": "stream",
          "text": [
            "1\n",
            "2\n",
            "3\n",
            "4\n",
            "5\n",
            "6\n",
            "7\n",
            "8\n",
            "9\n",
            "10\n"
          ]
        }
      ],
      "source": [
        "#Q12.Write a for loop to print numbers from 1 to 10.\n",
        "\n",
        "for i in range(1, 11):\n",
        "  print(i)\n",
        "\n"
      ]
    },
    {
      "cell_type": "code",
      "execution_count": 18,
      "metadata": {
        "colab": {
          "base_uri": "https://localhost:8080/"
        },
        "id": "LN4B1JwDcBJf",
        "outputId": "3c0e204d-9b8a-42da-a172-0c3169f964cb"
      },
      "outputs": [
        {
          "name": "stdout",
          "output_type": "stream",
          "text": [
            "sum of even number between 1 to 51 =>  2\n",
            "sum of even number between 1 to 51 =>  6\n",
            "sum of even number between 1 to 51 =>  12\n",
            "sum of even number between 1 to 51 =>  20\n",
            "sum of even number between 1 to 51 =>  30\n",
            "sum of even number between 1 to 51 =>  42\n",
            "sum of even number between 1 to 51 =>  56\n",
            "sum of even number between 1 to 51 =>  72\n",
            "sum of even number between 1 to 51 =>  90\n",
            "sum of even number between 1 to 51 =>  110\n",
            "sum of even number between 1 to 51 =>  132\n",
            "sum of even number between 1 to 51 =>  156\n",
            "sum of even number between 1 to 51 =>  182\n",
            "sum of even number between 1 to 51 =>  210\n",
            "sum of even number between 1 to 51 =>  240\n",
            "sum of even number between 1 to 51 =>  272\n",
            "sum of even number between 1 to 51 =>  306\n",
            "sum of even number between 1 to 51 =>  342\n",
            "sum of even number between 1 to 51 =>  380\n",
            "sum of even number between 1 to 51 =>  420\n",
            "sum of even number between 1 to 51 =>  462\n",
            "sum of even number between 1 to 51 =>  506\n",
            "sum of even number between 1 to 51 =>  552\n",
            "sum of even number between 1 to 51 =>  600\n",
            "sum of even number between 1 to 51 =>  650\n"
          ]
        }
      ],
      "source": [
        "#Q13.  Write a Python program to find the sum of all even numbers between 1 and 50\n",
        "sum = 0\n",
        "for i in range(1, 51):\n",
        "  if i % 2 == 00:\n",
        "    sum += i\n",
        "    print(\"sum of even number between 1 to 51 => \", sum)"
      ]
    },
    {
      "cell_type": "code",
      "execution_count": 23,
      "metadata": {
        "colab": {
          "base_uri": "https://localhost:8080/"
        },
        "id": "E4GYO3J1c1LI",
        "outputId": "c6d22236-fba5-47f4-bdf5-7af52c2671c3"
      },
      "outputs": [
        {
          "name": "stdout",
          "output_type": "stream",
          "text": [
            "Enter a string: angaJ\n",
            "Reversed string: Jagna\n"
          ]
        }
      ],
      "source": [
        "#Q14. Write a program to reverse a string using a while loop.\n",
        "string = input(\"Enter a string: \")\n",
        "reversed_string = \"\"\n",
        "index = len(string) - 1\n",
        "\n",
        "while index >= 0:\n",
        "    reversed_string += string[index]\n",
        "    index -= 1\n",
        "\n",
        "print(\"Reversed string:\", reversed_string)\n"
      ]
    },
    {
      "cell_type": "code",
      "execution_count": 24,
      "metadata": {
        "colab": {
          "base_uri": "https://localhost:8080/"
        },
        "id": "OSz23KzMdozA",
        "outputId": "8501f944-fe9b-4ef1-dec8-4d17afd8f303"
      },
      "outputs": [
        {
          "name": "stdout",
          "output_type": "stream",
          "text": [
            "Enter a number: 5\n",
            "The factorial of 5 is 120\n"
          ]
        }
      ],
      "source": [
        "#Q15. Write a Python program to calculate the factorial of a number provided by the user using a while loop.\n",
        "num = int(input(\"Enter a number: \"))\n",
        "factorial = 1\n",
        "current_number = 1\n",
        "\n",
        "while current_number <= num:\n",
        "    factorial *= current_number\n",
        "    current_number += 1\n",
        "\n",
        "print(f\"The factorial of {num} is {factorial}\")"
      ]
    },
    {
      "cell_type": "code",
      "execution_count": 1,
      "metadata": {},
      "outputs": [
        {
          "data": {
            "text/plain": [
              "'paswan'"
            ]
          },
          "execution_count": 1,
          "metadata": {},
          "output_type": "execute_result"
        }
      ],
      "source": [
        "a = \"paswan\"\n",
        "a"
      ]
    }
  ],
  "metadata": {
    "colab": {
      "provenance": []
    },
    "kernelspec": {
      "display_name": "Python 3",
      "name": "python3"
    },
    "language_info": {
      "codemirror_mode": {
        "name": "ipython",
        "version": 3
      },
      "file_extension": ".py",
      "mimetype": "text/x-python",
      "name": "python",
      "nbconvert_exporter": "python",
      "pygments_lexer": "ipython3",
      "version": "3.13.0"
    }
  },
  "nbformat": 4,
  "nbformat_minor": 0
}
